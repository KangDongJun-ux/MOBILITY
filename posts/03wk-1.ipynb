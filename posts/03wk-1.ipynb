{
  "cells": [
    {
      "cell_type": "raw",
      "id": "dc46daf8-66a6-4fe0-86cb-acaa7fa96f86",
      "metadata": {
        "id": "dc46daf8-66a6-4fe0-86cb-acaa7fa96f86"
      },
      "source": [
        "---\n",
        "title: \"03wk-1: 파이토치식 코딩패턴 (2), 로지스틱-ToyData1, 로지스틱-ToyData2\"\n",
        "author: \"최규빈\"\n",
        "date: \"03/19/2025\"\n",
        "draft: false\n",
        "---"
      ]
    },
    {
      "cell_type": "markdown",
      "id": "d61b9907-a6e7-4474-b0bc-31db2c52b7be",
      "metadata": {
        "id": "d61b9907-a6e7-4474-b0bc-31db2c52b7be"
      },
      "source": [
        "<a href=\"https://colab.research.google.com/github/guebin/DL2025/blob/main/posts/03wk-1.ipynb\"><img src=\"https://colab.research.google.com/assets/colab-badge.svg\" style=\"text-align: left\"></a>"
      ]
    },
    {
      "cell_type": "markdown",
      "id": "7df576f2-4c2e-466f-a256-c2505e3b85ca",
      "metadata": {
        "id": "7df576f2-4c2e-466f-a256-c2505e3b85ca"
      },
      "source": [
        "# 1. 강의영상"
      ]
    },
    {
      "cell_type": "code",
      "execution_count": null,
      "id": "6598045c-0a28-4dbe-980a-90c0a12defa0",
      "metadata": {
        "jp-MarkdownHeadingCollapsed": true,
        "id": "6598045c-0a28-4dbe-980a-90c0a12defa0"
      },
      "outputs": [],
      "source": [
        "# {{<video https://youtu.be/playlist?list=PLQqh36zP38-yQTdybfgfAlnXsuJu2hfw1&si=ouac6dB6esRzkdT7 >}}"
      ]
    },
    {
      "cell_type": "markdown",
      "id": "d9cc7c25-3ef0-4070-ba43-87715008adb7",
      "metadata": {
        "id": "d9cc7c25-3ef0-4070-ba43-87715008adb7"
      },
      "source": [
        "# 2. Imports"
      ]
    },
    {
      "cell_type": "code",
      "execution_count": null,
      "id": "48dc2a28-43e4-41aa-89c8-280699e32d34",
      "metadata": {
        "id": "48dc2a28-43e4-41aa-89c8-280699e32d34"
      },
      "outputs": [],
      "source": [
        "import torch\n",
        "import matplotlib.pyplot as plt"
      ]
    },
    {
      "cell_type": "code",
      "execution_count": null,
      "id": "9bc256fb-c86b-4a22-a00b-3182407fb0da",
      "metadata": {
        "id": "9bc256fb-c86b-4a22-a00b-3182407fb0da"
      },
      "outputs": [],
      "source": [
        "plt.rcParams['figure.figsize'] = (4.5, 3.0)"
      ]
    },
    {
      "cell_type": "markdown",
      "id": "ca0f10c2-7c66-4719-a677-e4e85067537e",
      "metadata": {
        "id": "ca0f10c2-7c66-4719-a677-e4e85067537e"
      },
      "source": [
        "# 3. 파이토치식 코딩패턴 (2)"
      ]
    },
    {
      "cell_type": "code",
      "source": [
        "# 로드맵\n",
        "# 회귀/로지스틱 -> DNN -> CNN\n",
        "# 파이토치식 코딩패턴: stpe 1~4\n",
        "# setp1:\n",
        "\n",
        "\n",
        "# 추세선(underlying) : (x,yhat-=X@W,'-')\n",
        "# 모델링: 에러가포함된 자료에서 error-free @ structure를 찾는 것\n",
        "# 모델링의 철칙: error-free 한 structure을 찾으려고 노력해야지, error을 따라가려고 노력하면 X\n",
        "# 오차 : error-free한 ㅡ스트럭쳐(모델)이랑 실제관측데이터의 갭이 있는데, 이 갭을 설명해주는 역할을 함."
      ],
      "metadata": {
        "id": "r9krs-lnyQOc"
      },
      "id": "r9krs-lnyQOc",
      "execution_count": null,
      "outputs": []
    },
    {
      "cell_type": "markdown",
      "id": "cb659c32-adbc-4f2f-ab98-30250b932eb3",
      "metadata": {
        "id": "cb659c32-adbc-4f2f-ab98-30250b932eb3"
      },
      "source": [
        "*데이터*"
      ]
    },
    {
      "cell_type": "code",
      "execution_count": null,
      "id": "ef3b58e9-2a1f-4eae-9dd9-2345deee33dc",
      "metadata": {
        "id": "ef3b58e9-2a1f-4eae-9dd9-2345deee33dc"
      },
      "outputs": [],
      "source": [
        "torch.manual_seed(43052)\n",
        "x,_ = torch.randn(100).sort()\n",
        "eps = torch.randn(100)*0.5\n",
        "X = torch.stack([torch.ones(100),x],axis=1)\n",
        "W = torch.tensor([[2.5],[4.0]])\n",
        "y = X@W + eps.reshape(100,1)\n",
        "x = X[:,[1]]"
      ]
    },
    {
      "cell_type": "markdown",
      "id": "eb472d16-6c95-4b11-acc2-46fc6f1f6e85",
      "metadata": {
        "id": "eb472d16-6c95-4b11-acc2-46fc6f1f6e85"
      },
      "source": [
        "## A. bias의 사용"
      ]
    },
    {
      "cell_type": "markdown",
      "id": "bcdcdf61-b302-46a4-8549-90d59a3ca9ad",
      "metadata": {
        "id": "bcdcdf61-b302-46a4-8549-90d59a3ca9ad"
      },
      "source": [
        "*net에서 bias를 사용*"
      ]
    },
    {
      "cell_type": "code",
      "source": [
        "net = torch.nn.Linear(2, 1, bias = False)\n",
        "net.weight.data = torch.tensor([-5,0],[10,0])\n",
        "loss_fn = torch.nn.MSELoss()\n",
        "optimizr = torch.optim.SGD(net.parameters(), lr =0.1)\n",
        "\n",
        "# step 1~4\n",
        "for epoc in range(30):\n",
        "  # 1\n",
        "  yhat = net(X)\n",
        "  # 2\n",
        "  loss = loss_fn(yhat, y)\n",
        "  # 3\n",
        "  loss.backward()\n",
        "  # 4\n",
        "  optimizr.step()\n",
        "  optimizr.zero_grad()"
      ],
      "metadata": {
        "id": "wXeKQwDvzsiU"
      },
      "id": "wXeKQwDvzsiU",
      "execution_count": null,
      "outputs": []
    },
    {
      "cell_type": "code",
      "source": [
        "# net(X) = X@net.weight.T + net.bias"
      ],
      "metadata": {
        "id": "dW_lHcx71Ycb"
      },
      "id": "dW_lHcx71Ycb",
      "execution_count": null,
      "outputs": []
    },
    {
      "cell_type": "code",
      "source": [
        "y = X@W + 입실론 # y = net(X) + 입실론\n",
        "y = X@What + X@W1hat + 입실론 # y = net(X) + 입실론"
      ],
      "metadata": {
        "id": "yoa2cwl31dbr"
      },
      "id": "yoa2cwl31dbr",
      "execution_count": null,
      "outputs": []
    },
    {
      "cell_type": "code",
      "source": [
        "net = torch.nn.Linear(1,1,bias=True)\n",
        "net"
      ],
      "metadata": {
        "id": "blN4fZTi1shD"
      },
      "id": "blN4fZTi1shD",
      "execution_count": null,
      "outputs": []
    },
    {
      "cell_type": "code",
      "source": [
        "net.weight.data = torch.,tensor([10,0])\n",
        "net.bias.data = torch.tensor([-5,0])"
      ],
      "metadata": {
        "id": "y7SsP8xZ11I7"
      },
      "id": "y7SsP8xZ11I7",
      "execution_count": null,
      "outputs": []
    },
    {
      "cell_type": "code",
      "source": [
        "net.weight"
      ],
      "metadata": {
        "id": "TwiGTcLB2GBk"
      },
      "id": "TwiGTcLB2GBk",
      "execution_count": null,
      "outputs": []
    },
    {
      "cell_type": "code",
      "source": [
        "net.bias"
      ],
      "metadata": {
        "id": "ZWQxTHtp2G2r"
      },
      "id": "ZWQxTHtp2G2r",
      "execution_count": null,
      "outputs": []
    },
    {
      "cell_type": "code",
      "source": [],
      "metadata": {
        "id": "vTKFN6kv2qGF"
      },
      "id": "vTKFN6kv2qGF",
      "execution_count": null,
      "outputs": []
    },
    {
      "cell_type": "code",
      "source": [
        "net = torch.nn.Linear(1, 1, bias = False)\n",
        "net.weight.data = torch.,tensor([10,0])\n",
        "net.bias.data = torch.tensor([-5,0])\n",
        "loss_fn = torch.nn.MSELoss()\n",
        "optimizr = torch.optim.SGD(net.parameters(), lr =0.1)\n",
        "\n",
        "# step 1~4\n",
        "for epoc in range(30):\n",
        "  # 1\n",
        "  yhat = net(X)\n",
        "  # 2\n",
        "  loss = loss_fn(yhat, y)\n",
        "  # 3\n",
        "  loss.backward()\n",
        "  # 4\n",
        "  optimizr.step()\n",
        "  optimizr.zero_grad()"
      ],
      "metadata": {
        "id": "qGNJoHkc2CBL"
      },
      "id": "qGNJoHkc2CBL",
      "execution_count": null,
      "outputs": []
    },
    {
      "cell_type": "code",
      "execution_count": null,
      "id": "a411cf25-edb2-4270-bc28-203ecf654901",
      "metadata": {
        "id": "a411cf25-edb2-4270-bc28-203ecf654901"
      },
      "outputs": [],
      "source": [
        "# step1을 위한 사전준비\n",
        "net = torch.nn.Linear(\n",
        "    in_features=1,\n",
        "    out_features=1,\n",
        "    bias=True\n",
        ") # net(x) = x@net.weight.T + net.bias\n",
        "net.bias.data = torch.tensor([-5.0])\n",
        "net.weight.data = torch.tensor([[10.0]])\n",
        "# step2를 위한 사전준비\n",
        "loss_fn = torch.nn.MSELoss()\n",
        "# step4를 위한 사전준비\n",
        "optimizr = torch.optim.SGD(net.parameters(),lr=0.1)\n",
        "for epoc in range(30):\n",
        "    # step1: yhat\n",
        "    yhat = net(x)\n",
        "    # step2: loss\n",
        "    loss = loss_fn(yhat,y)\n",
        "    # step3: 미분\n",
        "    loss.backward()\n",
        "    # step4: update\n",
        "    optimizr.step()\n",
        "    optimizr.zero_grad()"
      ]
    },
    {
      "cell_type": "code",
      "execution_count": null,
      "id": "21813b21-86ae-4aaa-8434-3d304d98136e",
      "metadata": {
        "id": "21813b21-86ae-4aaa-8434-3d304d98136e",
        "outputId": "c04c60ab-89bf-449c-aa93-b3412cb34c6f"
      },
      "outputs": [
        {
          "data": {
            "text/plain": [
              "(tensor([2.4290]), tensor([[4.0144]]))"
            ]
          },
          "execution_count": 13,
          "metadata": {},
          "output_type": "execute_result"
        }
      ],
      "source": [
        "net.bias.data, net.weight.data"
      ]
    },
    {
      "cell_type": "markdown",
      "id": "414d8f67-579a-4100-81d8-a8504e346f46",
      "metadata": {
        "id": "414d8f67-579a-4100-81d8-a8504e346f46"
      },
      "source": [
        "`#`"
      ]
    },
    {
      "cell_type": "markdown",
      "id": "081751a6-79d6-42e1-87a2-7570f15b206d",
      "metadata": {
        "id": "081751a6-79d6-42e1-87a2-7570f15b206d"
      },
      "source": [
        "## B. 잘못된(?) 코드"
      ]
    },
    {
      "cell_type": "code",
      "execution_count": null,
      "id": "e9d9cc2f-be7b-47a5-8d52-88f9973659a8",
      "metadata": {
        "id": "e9d9cc2f-be7b-47a5-8d52-88f9973659a8"
      },
      "outputs": [],
      "source": [
        "# step1을 위한 사전준비\n",
        "net = torch.nn.Linear(\n",
        "    in_features=2,\n",
        "    out_features=1,\n",
        ")\n",
        "net.weight.data = torch.tensor([[-5.0,  10.0]])\n",
        "# step2를 위한 사전준비\n",
        "loss_fn = torch.nn.MSELoss()\n",
        "# step4를 위한 사전준비\n",
        "optimizr = torch.optim.SGD(net.parameters(),lr=0.1)\n",
        "for epoc in range(30):\n",
        "    # step1: yhat\n",
        "    yhat = net(X)\n",
        "    # step2: loss\n",
        "    loss = loss_fn(yhat,y)\n",
        "    # step3: 미분\n",
        "    loss.backward()\n",
        "    # step4: update\n",
        "    optimizr.step()\n",
        "    optimizr.zero_grad()"
      ]
    },
    {
      "cell_type": "code",
      "execution_count": null,
      "id": "6504237b-e5ba-41e9-bb81-9cebae1f9bba",
      "metadata": {
        "id": "6504237b-e5ba-41e9-bb81-9cebae1f9bba",
        "outputId": "de0fa277-b3bc-4889-ef13-11738f24b448"
      },
      "outputs": [
        {
          "data": {
            "text/plain": [
              "Parameter containing:\n",
              "tensor([[-1.0241,  4.0080]], requires_grad=True)"
            ]
          },
          "execution_count": 142,
          "metadata": {},
          "output_type": "execute_result"
        }
      ],
      "source": [
        "net.weight"
      ]
    },
    {
      "cell_type": "markdown",
      "id": "e21a5a0b-6588-401a-813f-a5c34775d5cc",
      "metadata": {
        "id": "e21a5a0b-6588-401a-813f-a5c34775d5cc"
      },
      "source": [
        "`-` 결과시각화"
      ]
    },
    {
      "cell_type": "code",
      "execution_count": null,
      "id": "62f3aa0b-206e-4eb2-94aa-4582037d8a36",
      "metadata": {
        "tags": [],
        "id": "62f3aa0b-206e-4eb2-94aa-4582037d8a36",
        "outputId": "d4034554-f61b-41e3-ef13-949732dcaba6"
      },
      "outputs": [
        {
          "data": {
            "image/png": "[encoded data removed]",
            "text/plain": [
              "<Figure size 450x300 with 1 Axes>"
            ]
          },
          "metadata": {},
          "output_type": "display_data"
        }
      ],
      "source": [
        "plt.plot(x,y,'o')\n",
        "plt.plot(x,yhat.data,'--')\n",
        "plt.title(f'net.weight={net.weight.data.reshape(-1)}');"
      ]
    },
    {
      "cell_type": "markdown",
      "id": "6ae69aeb-4876-403e-9859-cf0def08d60d",
      "metadata": {
        "id": "6ae69aeb-4876-403e-9859-cf0def08d60d"
      },
      "source": [
        "`-` 나쁘지 않은 이유?"
      ]
    },
    {
      "cell_type": "code",
      "execution_count": null,
      "id": "80c0c3a1-f84c-4a7d-87f5-87718878db8a",
      "metadata": {
        "id": "80c0c3a1-f84c-4a7d-87f5-87718878db8a",
        "outputId": "2eca16bb-0d97-42dc-d8da-1fd5d4a7e94e"
      },
      "outputs": [
        {
          "data": {
            "text/plain": [
              "Parameter containing:\n",
              "tensor([[-1.0241,  4.0080]], requires_grad=True)"
            ]
          },
          "execution_count": 144,
          "metadata": {},
          "output_type": "execute_result"
        }
      ],
      "source": [
        "net.weight"
      ]
    },
    {
      "cell_type": "code",
      "execution_count": null,
      "id": "2add41f7-f22c-4a62-84c3-bc9ae5a60c2e",
      "metadata": {
        "id": "2add41f7-f22c-4a62-84c3-bc9ae5a60c2e",
        "outputId": "1f0a823f-04da-4882-912b-d5467e914244"
      },
      "outputs": [
        {
          "data": {
            "text/plain": [
              "Parameter containing:\n",
              "tensor([3.4689], requires_grad=True)"
            ]
          },
          "execution_count": 145,
          "metadata": {},
          "output_type": "execute_result"
        }
      ],
      "source": [
        "net.bias"
      ]
    },
    {
      "cell_type": "code",
      "source": [
        "X[[0],:] @ net.weight.T + net.bias"
      ],
      "metadata": {
        "id": "PDCupqRj3Lyr"
      },
      "id": "PDCupqRj3Lyr",
      "execution_count": null,
      "outputs": []
    },
    {
      "cell_type": "markdown",
      "id": "eed447cf-7622-4c60-a228-42915e16de98",
      "metadata": {
        "id": "eed447cf-7622-4c60-a228-42915e16de98"
      },
      "source": [
        "# 4. 로지스틱 -- ToyData1"
      ]
    },
    {
      "cell_type": "markdown",
      "id": "360fda95-264b-4bbc-9bd9-9fb105985dd5",
      "metadata": {
        "id": "360fda95-264b-4bbc-9bd9-9fb105985dd5"
      },
      "source": [
        "## A. $\\hat{\\bf y} = ??$"
      ]
    },
    {
      "cell_type": "markdown",
      "id": "5051b1ef-5a0e-4300-a70d-3939d06ce30e",
      "metadata": {
        "id": "5051b1ef-5a0e-4300-a70d-3939d06ce30e"
      },
      "source": [
        "`-` ${\\bf X}$를 가지고 ${\\bf y}$를 맞추는 아래와 같은 문제"
      ]
    },
    {
      "cell_type": "code",
      "execution_count": null,
      "id": "48c5b660-57fd-4a08-ab8d-3993f4fcd0b7",
      "metadata": {
        "tags": [],
        "id": "48c5b660-57fd-4a08-ab8d-3993f4fcd0b7",
        "outputId": "1c5d16df-1edb-42f2-99b3-c0c3ec18406a"
      },
      "outputs": [
        {
          "data": {
            "text/plain": [
              "[<matplotlib.lines.Line2D at 0x7f48024cc730>]"
            ]
          },
          "execution_count": 152,
          "metadata": {},
          "output_type": "execute_result"
        },
        {
          "data": {
            "image/png": "[encoded data removed]",
            "text/plain": [
              "<Figure size 450x300 with 1 Axes>"
            ]
          },
          "metadata": {},
          "output_type": "display_data"
        }
      ],
      "source": [
        "x = torch.tensor([-6,-5,-4,-3,-2,-1, 0, 1, 2, 3, 4, 5, 6.0]).reshape(-1,1)\n",
        "y = torch.tensor([ 0, 0, 0, 0, 0, 0, 1, 0, 1, 1, 1, 1, 1]).reshape(-1,1)\n",
        "plt.plot(x,y,'o')"
      ]
    },
    {
      "cell_type": "code",
      "source": [
        "prob = torch.exp(x) / (torch.exp(x)+1)\n",
        "plt.plot(x,y,'o')\n",
        "plt.plot(x,prob,'--')"
      ],
      "metadata": {
        "id": "vMV_q0oY6KTT"
      },
      "id": "vMV_q0oY6KTT",
      "execution_count": null,
      "outputs": []
    },
    {
      "cell_type": "markdown",
      "id": "c2c482cf-343d-4269-8447-93c98759c5f4",
      "metadata": {
        "tags": [],
        "id": "c2c482cf-343d-4269-8447-93c98759c5f4"
      },
      "source": [
        "`-` 아래와 같이 모형화 하면?"
      ]
    },
    {
      "cell_type": "code",
      "execution_count": null,
      "id": "f917d0b6-dac4-4e6d-8028-ad25709e034a",
      "metadata": {
        "tags": [],
        "id": "f917d0b6-dac4-4e6d-8028-ad25709e034a",
        "outputId": "af5bca34-87ce-4c91-f9c4-7f4c5e6cd36f"
      },
      "outputs": [
        {
          "data": {
            "text/plain": [
              "<matplotlib.legend.Legend at 0x7f4806e00be0>"
            ]
          },
          "execution_count": 57,
          "metadata": {},
          "output_type": "execute_result"
        },
        {
          "data": {
            "image/png": "[encoded data removed]",
            "text/plain": [
              "<Figure size 450x300 with 1 Axes>"
            ]
          },
          "metadata": {},
          "output_type": "display_data"
        }
      ],
      "source": [
        "plt.plot(x,y,'o', label=r\"observed data (with error) = $(x_i,y_i)$\")\n",
        "plt.plot(x,torch.exp(x)/(1+torch.exp(x)),'o--', label = \"underlying (without error)\")\n",
        "plt.legend()"
      ]
    },
    {
      "cell_type": "markdown",
      "id": "305c78e0-41c3-4bf6-b5e2-6d052b1baaff",
      "metadata": {
        "id": "305c78e0-41c3-4bf6-b5e2-6d052b1baaff"
      },
      "source": [
        "## B. $\\hat{\\bf y} = \\frac{\\exp(\\text{linr}({\\bf X}))}{1+\\exp(\\text{linr}({\\bf X}))}$"
      ]
    },
    {
      "cell_type": "markdown",
      "id": "054582d7-af56-4017-a07a-a0d5a134ed52",
      "metadata": {
        "id": "054582d7-af56-4017-a07a-a0d5a134ed52"
      },
      "source": [
        "`-` 걱정: 산점도가 꼭 아래와 같은 방식이 아니라면 어쩌지?"
      ]
    },
    {
      "cell_type": "code",
      "execution_count": null,
      "id": "e7453ed3-2166-495e-ab6b-d2b139425d24",
      "metadata": {
        "id": "e7453ed3-2166-495e-ab6b-d2b139425d24",
        "outputId": "f1490759-88de-4f7b-d70d-dbdaa3367a7c"
      },
      "outputs": [
        {
          "data": {
            "text/plain": [
              "[<matplotlib.lines.Line2D at 0x7f4804cd7d90>]"
            ]
          },
          "execution_count": 76,
          "metadata": {},
          "output_type": "execute_result"
        },
        {
          "data": {
            "image/png": "[encoded data removed]",
            "text/plain": [
              "<Figure size 450x300 with 1 Axes>"
            ]
          },
          "metadata": {},
          "output_type": "display_data"
        }
      ],
      "source": [
        "plt.plot(x,y,'o')\n",
        "# 데이터를 따라가면 안되고 error-free 한 structure을 따라가야 하고 그것은 추세선(underlying)이다."
      ]
    },
    {
      "cell_type": "markdown",
      "id": "0497d282-8fba-459f-9379-925e0b0befd1",
      "metadata": {
        "id": "0497d282-8fba-459f-9379-925e0b0befd1"
      },
      "source": [
        "- $x$가 증가할수록 $y$가 0이 된다면?\n",
        "- 0근처에서 변화가 일어나지 않고 2근처에서 변화가 일어난다면?\n",
        "- 변화가 좀 더 급하게 (혹은 완만하게 일어난다면?)"
      ]
    },
    {
      "cell_type": "markdown",
      "id": "73ee9cea-bb95-4676-bd41-3afc0391a421",
      "metadata": {
        "id": "73ee9cea-bb95-4676-bd41-3afc0391a421"
      },
      "source": [
        "`-` 걱정해결"
      ]
    },
    {
      "cell_type": "code",
      "execution_count": null,
      "id": "943d1a39-c21c-4a2f-974b-f99c7c75f45c",
      "metadata": {
        "tags": [],
        "id": "943d1a39-c21c-4a2f-974b-f99c7c75f45c",
        "outputId": "469fc9aa-2b56-403c-8360-8e3d0fd3c10b"
      },
      "outputs": [
        {
          "data": {
            "text/plain": [
              "<matplotlib.legend.Legend at 0x7f4804dbbf40>"
            ]
          },
          "execution_count": 75,
          "metadata": {},
          "output_type": "execute_result"
        },
        {
          "data": {
            "image/png": "[encoded data removed]",
            "text/plain": [
              "<Figure size 450x300 with 1 Axes>"
            ]
          },
          "metadata": {},
          "output_type": "display_data"
        }
      ],
      "source": [
        "#plt.plot(x,y,'o', label=r\"observed data (with error) = $(x_i,y_i)$\")\n",
        "plt.plot(x,torch.exp(x)/(1+torch.exp(x)),'o--', label = \"underlying type1 (without error)\", color=\"C1\")\n",
        "plt.plot(x,torch.exp(5*x)/(1+torch.exp(5*x)),'o--', label = \"underlying type2 (without error)\", color=\"C2\")\n",
        "plt.legend()"
      ]
    },
    {
      "cell_type": "markdown",
      "id": "bc6f2844-b985-45a9-8d6e-e646492c1d33",
      "metadata": {
        "id": "bc6f2844-b985-45a9-8d6e-e646492c1d33"
      },
      "source": [
        ":::{.callout-note}\n",
        "\n",
        "**회귀 vs 로지스틱**\n",
        "\n",
        "- ${\\bf X} \\to {\\bf y}$ 에 대한 패턴이 $\\text{linr}({\\bf X}) \\approx {\\bf y}$ 이라면 회귀!\n",
        "- ${\\bf X} \\to {\\bf y}$ 에 대한 패턴이 $\\frac{\\exp(\\text{linr}({\\bf X}))}{1+\\exp(\\text{linr}({\\bf X}))} \\approx {\\bf y}$ 이라면 로지스틱!\n",
        ":::"
      ]
    },
    {
      "cell_type": "markdown",
      "id": "02841c47-2174-443b-8347-0339056955c3",
      "metadata": {
        "id": "02841c47-2174-443b-8347-0339056955c3"
      },
      "source": [
        "# 5. 로지스틱 -- ToyData2"
      ]
    },
    {
      "cell_type": "markdown",
      "id": "1aaa3f52-b250-46be-a2f3-d73387e5f7a5",
      "metadata": {
        "id": "1aaa3f52-b250-46be-a2f3-d73387e5f7a5"
      },
      "source": [
        "## A. 로지스틱 모형"
      ]
    },
    {
      "cell_type": "markdown",
      "id": "2762f196-8e2e-4042-b91d-210253634cc1",
      "metadata": {
        "tags": [],
        "id": "2762f196-8e2e-4042-b91d-210253634cc1"
      },
      "source": [
        "`-` $x$가 커질수록 $y=1$이 잘나오는 모형은 아래와 같이 설계할 수 있음\n",
        "\\<— 외우세요!!!\n",
        "\n",
        "-   $y_i \\sim {\\cal B}(\\pi_i),\\quad$ where\n",
        "    $\\pi_i = \\frac{\\exp(w_0+w_1x_i)}{1+\\exp(w_0+w_1x_i)} = \\frac{1}{1+\\exp(-w_0-w_1x_i)}$\n",
        "\n",
        "-   $\\hat{y}_i= \\frac{\\exp(\\hat{w}_0+\\hat{w}_1x_i)}{1+\\exp(\\hat{w}_0+\\hat{w}_1x_i)}=\\frac{1}{1+\\exp(-\\hat{w}_0-\\hat{w}_1x_i)}$"
      ]
    },
    {
      "cell_type": "markdown",
      "id": "d9b60641-0338-4876-a44c-4cfd0a184433",
      "metadata": {
        "id": "d9b60641-0338-4876-a44c-4cfd0a184433"
      },
      "source": [
        "`-` 회귀모형과 로지스틱 모형의 비교\n",
        "\n",
        "- 회귀모형: $y_i \\sim {\\cal N}(w_0+w_1x_i, \\sigma^2)$^[원래는 이렇게 썼었지.. $y_i = w_0 + w_1x_i + \\epsilon_i \\quad \\epsilon_i \\sim {\\cal N}(0,\\sigma^2)$]\n",
        "- 로지스틱: $y_i \\sim {\\cal B}\\big(\\frac{\\exp(w_0+w_1x_i)}{1+\\exp(w_0+w_1x_i)}\\big)$"
      ]
    },
    {
      "cell_type": "markdown",
      "id": "c662831b-273f-4364-91bc-79a85aba24bd",
      "metadata": {
        "id": "c662831b-273f-4364-91bc-79a85aba24bd"
      },
      "source": [
        "`-` 우리가 예측하고 싶은것\n",
        "\n",
        "- 회귀모형: 정규분포의 평균을 예측하고 싶음. 즉 $w_0+w_1x_i$를 예측하고 싶음. 예측값으로는 $\\hat{w}_0 + \\hat{w}_1x_i$를 사용!\n",
        "- 로지스틱: 베르누이의 평균을 예측하고 싶음. 즉 $\\frac{\\exp(w_0+w_1x_i)}{1+\\exp(w_0+w_1x_i)}$를 예측하고 싶음. 예측값으로는 $\\frac{\\exp(\\hat{w}_0+\\hat{w}_1x_i)}{1+\\exp(\\hat{w}_0+\\hat{w}_1x_i)}$를 사용!"
      ]
    },
    {
      "cell_type": "markdown",
      "id": "152b4f3b-bc02-48ba-a980-fb2202c72f46",
      "metadata": {
        "id": "152b4f3b-bc02-48ba-a980-fb2202c72f46"
      },
      "source": [
        "## B. 데이터"
      ]
    },
    {
      "cell_type": "code",
      "execution_count": null,
      "id": "0fe2cee8-962a-438c-b7f9-1dc0a30137a2",
      "metadata": {
        "tags": [],
        "id": "0fe2cee8-962a-438c-b7f9-1dc0a30137a2"
      },
      "outputs": [],
      "source": [
        "x = torch.linspace(-1,1,2000).reshape(2000,1)\n",
        "w0 = -1\n",
        "w1 = 5\n",
        "u = w0 + x*w1 # 선형변환이네?\n",
        "v = torch.exp(u) / (1+torch.exp(u))\n",
        "y = torch.bernoulli(v)"
      ]
    },
    {
      "cell_type": "code",
      "execution_count": null,
      "id": "f746955e-ed06-46e7-8d39-7c1b5e6f646c",
      "metadata": {
        "tags": [],
        "id": "f746955e-ed06-46e7-8d39-7c1b5e6f646c",
        "outputId": "ba72b420-9462-48f6-ee9e-847adea55d2c"
      },
      "outputs": [
        {
          "data": {
            "text/plain": [
              "<matplotlib.legend.Legend at 0x7f4807008520>"
            ]
          },
          "execution_count": 26,
          "metadata": {},
          "output_type": "execute_result"
        },
        {
          "data": {
            "image/png": "[encoded data removed]",
            "text/plain": [
              "<Figure size 450x300 with 1 Axes>"
            ]
          },
          "metadata": {},
          "output_type": "display_data"
        }
      ],
      "source": [
        "plt.plot(x,y,'.',alpha=0.03)\n",
        "plt.plot(x[0],y[0],'o',label=r\"$(x_i,y_i)$\",color=\"C0\")\n",
        "plt.plot(x,v,'--r',label=r\"prob (true, unknown) = $\\frac{exp(-1+5x)}{1+exp(-1+5x)}$\")\n",
        "plt.legend()"
      ]
    },
    {
      "cell_type": "markdown",
      "id": "8f68c8c6-7954-432b-8a2b-9144a49ec867",
      "metadata": {
        "id": "8f68c8c6-7954-432b-8a2b-9144a49ec867"
      },
      "source": [
        "우리의 목적: $x_i$가 들어가면 빨간곡선 $\\hat{y}_i$의 값을 만들어주는 mapping을 학습해보자."
      ]
    },
    {
      "cell_type": "markdown",
      "id": "884b8dbe-a48d-4068-83e4-cd886af0e9a3",
      "metadata": {
        "id": "884b8dbe-a48d-4068-83e4-cd886af0e9a3"
      },
      "source": [
        "## C. Step1: net 설계 (모델링)"
      ]
    },
    {
      "cell_type": "markdown",
      "id": "41de8c7b-7bc6-4f22-82a7-9644bcf3afc8",
      "metadata": {
        "id": "41de8c7b-7bc6-4f22-82a7-9644bcf3afc8"
      },
      "source": [
        "`-` 최초의 곡선을 그려보자. ($net: x \\to yhat$ 을 수행하는 네트워크를 설계해보자는 의미)"
      ]
    },
    {
      "cell_type": "code",
      "execution_count": null,
      "id": "8c2e6a6c-a617-4ea2-9c5c-10fd0b89af24",
      "metadata": {
        "tags": [],
        "id": "8c2e6a6c-a617-4ea2-9c5c-10fd0b89af24"
      },
      "outputs": [],
      "source": [
        "w0hat = -0.8\n",
        "w1hat = -0.3"
      ]
    },
    {
      "cell_type": "code",
      "execution_count": null,
      "id": "17e48ba2-0673-4ed2-a910-b00d6c11abb7",
      "metadata": {
        "tags": [],
        "id": "17e48ba2-0673-4ed2-a910-b00d6c11abb7"
      },
      "outputs": [],
      "source": [
        "def sigmoid(x):\n",
        "    return torch.exp(x)/(1+torch.exp(x))"
      ]
    },
    {
      "cell_type": "code",
      "execution_count": null,
      "id": "a7cde6b5-a02d-4946-b481-02df3846d43f",
      "metadata": {
        "tags": [],
        "id": "a7cde6b5-a02d-4946-b481-02df3846d43f",
        "outputId": "b8ef19ab-2025-4e65-feea-0944f48c047d"
      },
      "outputs": [
        {
          "data": {
            "text/plain": [
              "<matplotlib.legend.Legend at 0x7f4806e9a520>"
            ]
          },
          "execution_count": 29,
          "metadata": {},
          "output_type": "execute_result"
        },
        {
          "data": {
            "image/png": "[encoded data removed]",
            "text/plain": [
              "<Figure size 450x300 with 1 Axes>"
            ]
          },
          "metadata": {},
          "output_type": "display_data"
        }
      ],
      "source": [
        "plt.plot(x,y,'.',alpha=0.03)\n",
        "plt.plot(x[0],y[0],'o',label=r\"$(x_i,y_i)$\",color=\"C0\")\n",
        "plt.plot(x,v,'--r',label=r\"prob (true, unknown) = $\\frac{exp(-1+5x)}{1+exp(-1+5x)}$\")\n",
        "plt.plot(x,sigmoid(w0hat + w1hat*x),'--b', label=r\"prob (estimated) = $(x_i,\\hat{y}_i)$ -- first curve\")\n",
        "plt.legend()"
      ]
    },
    {
      "cell_type": "markdown",
      "id": "5fe4ca50-37b1-4072-84a8-170ee6ffa6ca",
      "metadata": {
        "tags": [],
        "id": "5fe4ca50-37b1-4072-84a8-170ee6ffa6ca"
      },
      "source": [
        "`-` `w0hat + w1hat*x` 이 부분을 `torch.nn.Linear(bias = False)`로 구현"
      ]
    },
    {
      "cell_type": "code",
      "execution_count": null,
      "id": "fb9d137e-593d-4856-b50c-eb65e5b6132e",
      "metadata": {
        "tags": [],
        "id": "fb9d137e-593d-4856-b50c-eb65e5b6132e",
        "outputId": "d444cd39-0b1d-4a9f-c752-59e2979c20c9"
      },
      "outputs": [
        {
          "data": {
            "text/plain": [
              "Parameter containing:\n",
              "tensor([[-0.6863, -0.1951]], requires_grad=True)"
            ]
          },
          "execution_count": 30,
          "metadata": {},
          "output_type": "execute_result"
        }
      ],
      "source": [
        "X = torch.concat([torch.ones(2000).reshape(-1,1),x],axis=1)\n",
        "l1 = torch.nn.Linear(in_features=2, out_features=1, bias = False)\n",
        "l1.weight"
      ]
    },
    {
      "cell_type": "code",
      "execution_count": null,
      "id": "91ddf6ba-6755-4ba5-bfc6-168ef644a719",
      "metadata": {
        "tags": [],
        "id": "91ddf6ba-6755-4ba5-bfc6-168ef644a719"
      },
      "outputs": [],
      "source": [
        "l1.weight.data = torch.tensor([[-0.8,  -0.3]])"
      ]
    },
    {
      "cell_type": "code",
      "execution_count": null,
      "id": "40ca61d7-88f0-4e65-96b0-abfc49b53f8b",
      "metadata": {
        "tags": [],
        "id": "40ca61d7-88f0-4e65-96b0-abfc49b53f8b",
        "outputId": "ac051efe-0560-41bb-f529-07e08997070a"
      },
      "outputs": [
        {
          "data": {
            "text/plain": [
              "(tensor([[-0.5000],\n",
              "         [-0.5003],\n",
              "         [-0.5006],\n",
              "         ...,\n",
              "         [-1.0994],\n",
              "         [-1.0997],\n",
              "         [-1.1000]], grad_fn=<MmBackward0>),\n",
              " tensor([[-0.5000],\n",
              "         [-0.5003],\n",
              "         [-0.5006],\n",
              "         ...,\n",
              "         [-1.0994],\n",
              "         [-1.0997],\n",
              "         [-1.1000]]))"
            ]
          },
          "execution_count": 32,
          "metadata": {},
          "output_type": "execute_result"
        }
      ],
      "source": [
        "l1(X), w0hat + w1hat*x # 똑같죠"
      ]
    },
    {
      "cell_type": "markdown",
      "id": "ce2deed5-4356-4182-a424-f350d6a2bdd4",
      "metadata": {
        "tags": [],
        "id": "ce2deed5-4356-4182-a424-f350d6a2bdd4"
      },
      "source": [
        "`-` `w0hat + w1hat*x` 이 부분을 `torch.nn.Linear(bias = True)`로 구현"
      ]
    },
    {
      "cell_type": "code",
      "execution_count": null,
      "id": "61f662ed-92c3-4020-bd31-38efcdc2b850",
      "metadata": {
        "tags": [],
        "id": "61f662ed-92c3-4020-bd31-38efcdc2b850",
        "outputId": "eecf6724-32bf-4b5b-a5b3-b224ac3e1bea"
      },
      "outputs": [
        {
          "data": {
            "text/plain": [
              "(Parameter containing:\n",
              " tensor([[0.8917]], requires_grad=True),\n",
              " Parameter containing:\n",
              " tensor([-0.7840], requires_grad=True))"
            ]
          },
          "execution_count": 33,
          "metadata": {},
          "output_type": "execute_result"
        }
      ],
      "source": [
        "#X = torch.concat([torch.ones(2000).reshape(-1,1),x],axis=1)\n",
        "l1 = torch.nn.Linear(in_features=1, out_features=1)\n",
        "l1.weight, l1.bias"
      ]
    },
    {
      "cell_type": "code",
      "execution_count": null,
      "id": "ab90cf6b-2dee-4b5c-a5f0-4ffa41ddd213",
      "metadata": {
        "tags": [],
        "id": "ab90cf6b-2dee-4b5c-a5f0-4ffa41ddd213"
      },
      "outputs": [],
      "source": [
        "l1.weight.data = torch.tensor([[-0.3]])\n",
        "l1.bias.data = torch.tensor([-0.8])"
      ]
    },
    {
      "cell_type": "code",
      "execution_count": null,
      "id": "748e2150-2f58-4910-b250-f0cac380889c",
      "metadata": {
        "tags": [],
        "id": "748e2150-2f58-4910-b250-f0cac380889c",
        "outputId": "f278c842-57a3-49cf-9e78-ac5368ddc9d0"
      },
      "outputs": [
        {
          "data": {
            "text/plain": [
              "(tensor([[-0.5000],\n",
              "         [-0.5003],\n",
              "         [-0.5006],\n",
              "         ...,\n",
              "         [-1.0994],\n",
              "         [-1.0997],\n",
              "         [-1.1000]], grad_fn=<AddmmBackward0>),\n",
              " tensor([[-0.5000],\n",
              "         [-0.5003],\n",
              "         [-0.5006],\n",
              "         ...,\n",
              "         [-1.0994],\n",
              "         [-1.0997],\n",
              "         [-1.1000]]))"
            ]
          },
          "execution_count": 35,
          "metadata": {},
          "output_type": "execute_result"
        }
      ],
      "source": [
        "l1(x), w0hat + w1hat*x # 이것도 똑같죠!"
      ]
    },
    {
      "cell_type": "markdown",
      "id": "bd318422-b714-4355-ab05-3e00c6e15fb9",
      "metadata": {
        "tags": [],
        "id": "bd318422-b714-4355-ab05-3e00c6e15fb9"
      },
      "source": [
        "`-` 내가만든 sigmoid 대신에 토치에서 제공하는 sigmoid 사용"
      ]
    },
    {
      "cell_type": "code",
      "execution_count": null,
      "id": "ee6cea3e-6fb2-4c89-9764-2f75abf5f29c",
      "metadata": {
        "tags": [],
        "id": "ee6cea3e-6fb2-4c89-9764-2f75abf5f29c"
      },
      "outputs": [],
      "source": [
        "a1 = torch.nn.Sigmoid()"
      ]
    },
    {
      "cell_type": "code",
      "execution_count": null,
      "id": "3e6970c4-cae9-44b0-9c89-77c84845471e",
      "metadata": {
        "tags": [],
        "id": "3e6970c4-cae9-44b0-9c89-77c84845471e",
        "outputId": "540ebe24-0a5b-42d0-a59d-f18d2a8bd452"
      },
      "outputs": [
        {
          "data": {
            "text/plain": [
              "(tensor([[0.3775],\n",
              "         [0.3775],\n",
              "         [0.3774],\n",
              "         ...,\n",
              "         [0.2499],\n",
              "         [0.2498],\n",
              "         [0.2497]], grad_fn=<DivBackward0>),\n",
              " tensor([[0.3775],\n",
              "         [0.3775],\n",
              "         [0.3774],\n",
              "         ...,\n",
              "         [0.2499],\n",
              "         [0.2498],\n",
              "         [0.2497]], grad_fn=<SigmoidBackward0>))"
            ]
          },
          "execution_count": 37,
          "metadata": {},
          "output_type": "execute_result"
        }
      ],
      "source": [
        "sigmoid(l1(x)), a1(l1(x)) # 똑같아요"
      ]
    },
    {
      "cell_type": "markdown",
      "id": "2babf170-2682-4498-b2d8-5e3fe36c4bdf",
      "metadata": {
        "id": "2babf170-2682-4498-b2d8-5e3fe36c4bdf"
      },
      "source": [
        "`-` 지금까지의 구현 확인"
      ]
    },
    {
      "cell_type": "code",
      "execution_count": null,
      "id": "73393c85-5fbc-4874-aa9b-afe447c95de8",
      "metadata": {
        "tags": [],
        "id": "73393c85-5fbc-4874-aa9b-afe447c95de8",
        "outputId": "bbf8c0f1-77c4-4a14-9282-198b9d5e110e"
      },
      "outputs": [
        {
          "data": {
            "text/plain": [
              "<matplotlib.legend.Legend at 0x7f4806e0a3d0>"
            ]
          },
          "execution_count": 38,
          "metadata": {},
          "output_type": "execute_result"
        },
        {
          "data": {
            "image/png": "[encoded data removed]",
            "text/plain": [
              "<Figure size 450x300 with 1 Axes>"
            ]
          },
          "metadata": {},
          "output_type": "display_data"
        }
      ],
      "source": [
        "plt.plot(x,y,'.',alpha=0.03)\n",
        "plt.plot(x[0],y[0],'o',label=r\"$(x_i,y_i)$\",color=\"C0\")\n",
        "plt.plot(x,v,'--r',label=r\"prob (true, unknown) = $\\frac{exp(-1+5x)}{1+exp(-1+5x)}$\")\n",
        "plt.plot(x,sigmoid(w0hat + w1hat*x),'--b', label=r\"prob (estimated) = $(x_i,\\hat{y}_i)$ -- first curve\")\n",
        "plt.plot(x,a1(l1(x)).data,'--b', label=r\"prob (estimated) = $(x_i,\\hat{y}_i)$ -- first curve with $(a_1 \\circ l_1)(x)$\")\n",
        "plt.legend()"
      ]
    },
    {
      "cell_type": "markdown",
      "id": "d2a5bdbc-6137-46a8-bdf9-63cfe05a81b1",
      "metadata": {
        "id": "d2a5bdbc-6137-46a8-bdf9-63cfe05a81b1"
      },
      "source": [
        "`-` 관찰: 지금 아래의 구조이다.\n",
        "\n",
        "$${\\boldsymbol x} \\overset{l_1}{\\to} {\\boldsymbol u} \\overset{a_1}{\\to} {\\boldsymbol v} = \\hat{\\boldsymbol y}$$"
      ]
    },
    {
      "cell_type": "markdown",
      "id": "ecc95dd0-9907-4c82-a448-d6fcb51d80d9",
      "metadata": {
        "id": "ecc95dd0-9907-4c82-a448-d6fcb51d80d9"
      },
      "source": [
        "`-` 소망: 함수 $l_1, a_1$ 의 합성을 하나로 묶어서\n",
        "\n",
        "$$(a_1\\circ l_1)({\\boldsymbol x}) := net({\\boldsymbol x})$$\n",
        "\n",
        "이러한 기능을 하는 하나의 함수 $net$을 만들 수 없을까?"
      ]
    },
    {
      "cell_type": "code",
      "execution_count": null,
      "id": "3317abe8-f807-436c-adf0-dd3c7176e6b8",
      "metadata": {
        "tags": [],
        "id": "3317abe8-f807-436c-adf0-dd3c7176e6b8"
      },
      "outputs": [],
      "source": [
        "net = torch.nn.Sequential(l1,a1) #l1을 취하고 그다음에 a1을 취하라는 의미"
      ]
    },
    {
      "cell_type": "code",
      "execution_count": null,
      "id": "9e9e1b36-5389-40ba-acf2-daa223ce4e19",
      "metadata": {
        "tags": [],
        "id": "9e9e1b36-5389-40ba-acf2-daa223ce4e19",
        "outputId": "6d2e67ab-2107-4343-aa37-d4636326d8f6"
      },
      "outputs": [
        {
          "data": {
            "text/plain": [
              "(tensor([[0.3775],\n",
              "         [0.3775],\n",
              "         [0.3774],\n",
              "         ...,\n",
              "         [0.2499],\n",
              "         [0.2498],\n",
              "         [0.2497]], grad_fn=<SigmoidBackward0>),\n",
              " tensor([[0.3775],\n",
              "         [0.3775],\n",
              "         [0.3774],\n",
              "         ...,\n",
              "         [0.2499],\n",
              "         [0.2498],\n",
              "         [0.2497]], grad_fn=<SigmoidBackward0>),\n",
              " tensor([[0.3775],\n",
              "         [0.3775],\n",
              "         [0.3774],\n",
              "         ...,\n",
              "         [0.2499],\n",
              "         [0.2498],\n",
              "         [0.2497]]))"
            ]
          },
          "execution_count": 40,
          "metadata": {},
          "output_type": "execute_result"
        }
      ],
      "source": [
        "net(x), a1(l1(x)), sigmoid(w0hat+ w1hat*x)"
      ]
    },
    {
      "cell_type": "code",
      "execution_count": null,
      "id": "0b604530-82af-405d-a5ab-1bfa891c9b30",
      "metadata": {
        "tags": [],
        "id": "0b604530-82af-405d-a5ab-1bfa891c9b30"
      },
      "outputs": [],
      "source": [
        "_l1, _a1 = net # 언패킹!! (섭스크립터블하니까..)"
      ]
    },
    {
      "cell_type": "code",
      "execution_count": null,
      "id": "491b9747-1422-40fe-9689-2cd88c075624",
      "metadata": {
        "tags": [],
        "id": "491b9747-1422-40fe-9689-2cd88c075624",
        "outputId": "6138fe3d-fd68-402c-c64b-4aa4ddc7bfbe"
      },
      "outputs": [
        {
          "data": {
            "text/plain": [
              "(Parameter containing:\n",
              " tensor([[-0.3000]], requires_grad=True),\n",
              " Parameter containing:\n",
              " tensor([-0.8000], requires_grad=True))"
            ]
          },
          "execution_count": 48,
          "metadata": {},
          "output_type": "execute_result"
        }
      ],
      "source": [
        "_l1.weight, _l1.bias # 내가 설정한 웨이트도 그대로 들어가있음"
      ]
    },
    {
      "cell_type": "markdown",
      "id": "8cd14509-3be5-4b80-83d1-9788860d1246",
      "metadata": {
        "id": "8cd14509-3be5-4b80-83d1-9788860d1246"
      },
      "source": [
        "## D. Step 1~4"
      ]
    },
    {
      "cell_type": "code",
      "execution_count": null,
      "id": "77119c9b-97f3-4528-b7fc-946a99248e1a",
      "metadata": {
        "tags": [],
        "id": "77119c9b-97f3-4528-b7fc-946a99248e1a"
      },
      "outputs": [],
      "source": [
        "net = torch.nn.Sequential(\n",
        "    torch.nn.Linear(in_features=1, out_features=1),\n",
        "    torch.nn.Sigmoid()\n",
        ")\n",
        "l1, a1 = net # 네트워크는 섭스크립터블 오브젝트이니까..\n",
        "l1.weight.data = torch.tensor([[-0.3]])\n",
        "l1.bias.data = torch.tensor([-0.8])\n",
        "optimizr = torch.optim.SGD(net.parameters(),lr=0.25)\n",
        "#---#\n",
        "for epoc in range(100):\n",
        "    ## 1\n",
        "    yhat = net(x)\n",
        "    ## 2\n",
        "    loss = torch.mean((y-yhat)**2)\n",
        "    ## 3\n",
        "    loss.backward()\n",
        "    ## 4\n",
        "    optimizr.step()\n",
        "    optimizr.zero_grad()"
      ]
    },
    {
      "cell_type": "code",
      "execution_count": null,
      "id": "3749938c-b054-4cf7-9390-86f6b002adbd",
      "metadata": {
        "tags": [],
        "id": "3749938c-b054-4cf7-9390-86f6b002adbd",
        "outputId": "36b49c77-8404-42b5-81c8-89d3436b669c"
      },
      "outputs": [
        {
          "data": {
            "text/plain": [
              "Text(0.5, 1.0, 'after 100 epochs')"
            ]
          },
          "execution_count": 50,
          "metadata": {},
          "output_type": "execute_result"
        },
        {
          "data": {
            "image/png": "[encoded data removed]",
            "text/plain": [
              "<Figure size 450x300 with 1 Axes>"
            ]
          },
          "metadata": {},
          "output_type": "display_data"
        }
      ],
      "source": [
        "plt.plot(x,y,'.',alpha=0.05)\n",
        "plt.plot(x,v,'--r')\n",
        "plt.plot(x,yhat.data,'--b')\n",
        "plt.title('after 100 epochs')"
      ]
    },
    {
      "cell_type": "code",
      "execution_count": null,
      "id": "c912dae1-5477-49f3-9009-a5c3c75b0871",
      "metadata": {
        "tags": [],
        "id": "c912dae1-5477-49f3-9009-a5c3c75b0871"
      },
      "outputs": [],
      "source": [
        "for epoc in range(4900):\n",
        "    ## 1\n",
        "    yhat = net(x)\n",
        "    ## 2\n",
        "    loss = torch.mean((y-yhat)**2)\n",
        "    ## 3\n",
        "    loss.backward()\n",
        "    ## 4\n",
        "    optimizr.step()\n",
        "    optimizr.zero_grad()"
      ]
    },
    {
      "cell_type": "code",
      "execution_count": null,
      "id": "fc0eaede-1dc6-4b16-ac40-351ed11b7071",
      "metadata": {
        "tags": [],
        "id": "fc0eaede-1dc6-4b16-ac40-351ed11b7071",
        "outputId": "0b304fed-aab9-4cef-9f9a-bedabe00d095"
      },
      "outputs": [
        {
          "data": {
            "text/plain": [
              "Text(0.5, 1.0, 'after 5000 epochs')"
            ]
          },
          "execution_count": 52,
          "metadata": {},
          "output_type": "execute_result"
        },
        {
          "data": {
            "image/png": "[encoded data removed]",
            "text/plain": [
              "<Figure size 450x300 with 1 Axes>"
            ]
          },
          "metadata": {},
          "output_type": "display_data"
        }
      ],
      "source": [
        "plt.plot(x,y,'.',alpha=0.05)\n",
        "plt.plot(x,v,'--r')\n",
        "plt.plot(x,yhat.data,'--b')\n",
        "plt.title('after 5000 epochs')"
      ]
    },
    {
      "cell_type": "markdown",
      "id": "d22c3a26-21a6-41a5-b3ee-e3faa6aa6ae2",
      "metadata": {
        "id": "d22c3a26-21a6-41a5-b3ee-e3faa6aa6ae2"
      },
      "source": [
        "성공했나?"
      ]
    }
  ],
  "metadata": {
    "kernelspec": {
      "display_name": "Python 3 (ipykernel)",
      "language": "python",
      "name": "python3"
    },
    "language_info": {
      "codemirror_mode": {
        "name": "ipython",
        "version": 3
      },
      "file_extension": ".py",
      "mimetype": "text/x-python",
      "name": "python",
      "nbconvert_exporter": "python",
      "pygments_lexer": "ipython3",
      "version": "3.9.21"
    },
    "colab": {
      "provenance": []
    }
  },
  "nbformat": 4,
  "nbformat_minor": 5
}